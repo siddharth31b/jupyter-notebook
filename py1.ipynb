{
 "cells": [
  {
   "cell_type": "code",
   "execution_count": 1,
   "id": "02de6a82-3548-4418-8bdd-586e9b0a4e59",
   "metadata": {},
   "outputs": [
    {
     "name": "stdout",
     "output_type": "stream",
     "text": [
      "hello world\n"
     ]
    }
   ],
   "source": [
    "print(\"hello world\")"
   ]
  },
  {
   "cell_type": "code",
   "execution_count": 2,
   "id": "3a039a36-c040-4a94-966d-d9ca097fec42",
   "metadata": {},
   "outputs": [
    {
     "name": "stdout",
     "output_type": "stream",
     "text": [
      "6\n"
     ]
    }
   ],
   "source": [
    "print(6)"
   ]
  },
  {
   "cell_type": "code",
   "execution_count": 3,
   "id": "1696539a-355b-48ac-8410-54cfbf6501a6",
   "metadata": {},
   "outputs": [
    {
     "name": "stdout",
     "output_type": "stream",
     "text": [
      "5.6\n"
     ]
    }
   ],
   "source": [
    "print(5.6)"
   ]
  },
  {
   "cell_type": "code",
   "execution_count": 4,
   "id": "eeffdba1-ea64-4a0d-b712-a8711c7c565b",
   "metadata": {},
   "outputs": [
    {
     "name": "stdout",
     "output_type": "stream",
     "text": [
      "False\n"
     ]
    }
   ],
   "source": [
    "print(False)"
   ]
  },
  {
   "cell_type": "code",
   "execution_count": 5,
   "id": "25649fa9-5133-4c45-a627-f866f7104cd4",
   "metadata": {},
   "outputs": [
    {
     "name": "stdout",
     "output_type": "stream",
     "text": [
      "india pakistan nepal srilanka\n"
     ]
    }
   ],
   "source": [
    "print(\"india\",\"pakistan\",\"nepal\",\"srilanka\")"
   ]
  },
  {
   "cell_type": "code",
   "execution_count": 6,
   "id": "82db8651-f0e8-4c70-913c-0b5d3a977515",
   "metadata": {},
   "outputs": [
    {
     "name": "stdout",
     "output_type": "stream",
     "text": [
      "india 5 True\n"
     ]
    }
   ],
   "source": [
    "print(\"india\",5,True)"
   ]
  },
  {
   "cell_type": "code",
   "execution_count": 7,
   "id": "5eec0665-199e-4d67-8262-55e7bd9e8a2b",
   "metadata": {},
   "outputs": [
    {
     "name": "stdout",
     "output_type": "stream",
     "text": [
      "india-pakistan-nepal-srilanka\n"
     ]
    }
   ],
   "source": [
    "print(\"india\",\"pakistan\",\"nepal\",\"srilanka\",sep='-')"
   ]
  },
  {
   "cell_type": "code",
   "execution_count": 8,
   "id": "30813575-f2da-448f-97eb-21cbba163411",
   "metadata": {},
   "outputs": [
    {
     "name": "stdout",
     "output_type": "stream",
     "text": [
      "india/pakistan/nepal/srilanka\n"
     ]
    }
   ],
   "source": [
    "print(\"india\",\"pakistan\",\"nepal\",\"srilanka\",sep='/')"
   ]
  },
  {
   "cell_type": "code",
   "execution_count": 9,
   "id": "54832d62-8234-421b-bcf9-057dead2320b",
   "metadata": {},
   "outputs": [
    {
     "name": "stdout",
     "output_type": "stream",
     "text": [
      "hello\n",
      "world\n"
     ]
    }
   ],
   "source": [
    "print(\"hello\")\n",
    "print(\"world\")"
   ]
  },
  {
   "cell_type": "code",
   "execution_count": 11,
   "id": "d7f84896-4938-4d60-a9af-05685d94bbac",
   "metadata": {},
   "outputs": [
    {
     "name": "stdout",
     "output_type": "stream",
     "text": [
      "hello world\n"
     ]
    }
   ],
   "source": [
    "print(\"hello\",end=' ')\n",
    "print(\"world\")"
   ]
  },
  {
   "cell_type": "code",
   "execution_count": null,
   "id": "380a85e9-5961-4cf4-b735-90fa8fa1822a",
   "metadata": {},
   "outputs": [],
   "source": [
    "print()"
   ]
  }
 ],
 "metadata": {
  "kernelspec": {
   "display_name": "Python 3 (ipykernel)",
   "language": "python",
   "name": "python3"
  },
  "language_info": {
   "codemirror_mode": {
    "name": "ipython",
    "version": 3
   },
   "file_extension": ".py",
   "mimetype": "text/x-python",
   "name": "python",
   "nbconvert_exporter": "python",
   "pygments_lexer": "ipython3",
   "version": "3.12.3"
  }
 },
 "nbformat": 4,
 "nbformat_minor": 5
}
